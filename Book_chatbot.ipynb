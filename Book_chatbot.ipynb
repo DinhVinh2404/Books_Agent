{
  "cells": [
    {
      "cell_type": "markdown",
      "metadata": {
        "id": "view-in-github",
        "colab_type": "text"
      },
      "source": [
        "<a href=\"https://colab.research.google.com/github/DinhVinh2404/Books_Agent/blob/main/Book_chatbot.ipynb\" target=\"_parent\"><img src=\"https://colab.research.google.com/assets/colab-badge.svg\" alt=\"Open In Colab\"/></a>"
      ]
    },
    {
      "cell_type": "code",
      "execution_count": null,
      "metadata": {
        "collapsed": true,
        "id": "cU9t1_nWf9bC"
      },
      "outputs": [],
      "source": [
        "%pip install -q langchain langgraph langchain-community langchain-google-genai sqlalchemy ipython-sql langchain-text-splitters pypdf"
      ]
    },
    {
      "cell_type": "code",
      "source": [
        "!pip list | egrep 'langchain|langgraph|sqlalchemy|pypdf|faiss|ipython'"
      ],
      "metadata": {
        "colab": {
          "base_uri": "https://localhost:8080/"
        },
        "id": "aOE1nugDvBp0",
        "outputId": "a7b5825d-b148-445b-a38b-16b508c7ac6a"
      },
      "execution_count": 13,
      "outputs": [
        {
          "output_type": "stream",
          "name": "stdout",
          "text": [
            "ipython                                  7.34.0\n",
            "ipython-genutils                         0.2.0\n",
            "ipython-sql                              0.5.0\n",
            "langchain                                0.3.27\n",
            "langchain-community                      0.3.31\n",
            "langchain-core                           0.3.79\n",
            "langchain-google-genai                   2.1.12\n",
            "langchain-text-splitters                 0.3.11\n",
            "langgraph                                1.0.1\n",
            "langgraph-checkpoint                     3.0.0\n",
            "langgraph-prebuilt                       1.0.1\n",
            "langgraph-sdk                            0.2.9\n",
            "pypdf                                    6.1.3\n",
            "sqlalchemy-spanner                       1.17.0\n"
          ]
        }
      ]
    },
    {
      "cell_type": "code",
      "execution_count": 2,
      "metadata": {
        "id": "FA1zxdaQkEms"
      },
      "outputs": [],
      "source": [
        "from google.colab import userdata\n",
        "import os\n",
        "if not os.environ.get(\"GOOGLE_API_KEY\"):\n",
        "    os.environ[\"GOOGLE_API_KEY\"] = userdata.get(\"GOOGLE_API_KEY\")"
      ]
    },
    {
      "cell_type": "markdown",
      "metadata": {
        "id": "arO7NfEXot8c"
      },
      "source": [
        "**CREAT TABLES**"
      ]
    },
    {
      "cell_type": "code",
      "execution_count": 3,
      "metadata": {
        "id": "uNY5rgjEnTQ0"
      },
      "outputs": [],
      "source": [
        "import sqlite3\n",
        "\n",
        "db_path = \"/content/books.db\"\n",
        "if os.path.exists(db_path):\n",
        "    os.remove(db_path)\n",
        "\n",
        "conn = sqlite3.connect(db_path)\n",
        "cursor = conn.cursor()\n",
        "\n",
        "cursor.execute('''\n",
        "  CREATE TABLE IF NOT EXISTS Books (\n",
        "    book_id INTEGER PRIMARY KEY,\n",
        "    title TEXT,\n",
        "    author TEXT,\n",
        "    price REAL,\n",
        "    stock INTEGER,\n",
        "    category TEXT\n",
        "  )\n",
        "''')\n",
        "\n",
        "cursor.execute('''\n",
        "  CREATE TABLE IF NOT EXISTS Orders (\n",
        "    order_id INTEGER PRIMARY KEY,\n",
        "    customer_name TEXT,\n",
        "    phone TEXT,\n",
        "    address TEXT,\n",
        "    book_id INTEGER,\n",
        "    quantity INTEGER,\n",
        "    status TEXT,\n",
        "    FOREIGN KEY (book_id) REFERENCES Books(book_id)\n",
        "  )\n",
        "''')\n",
        "\n",
        "cursor.execute(\"INSERT INTO Books VALUES (1, 'Chatbot', 'Vinh', 24.04, 1, 'Test')\")\n",
        "cursor.execute(\"INSERT INTO Books VALUES (2, 'User manual', 'Vinh2', 2003, 5, 'Manual')\")\n",
        "conn.commit()\n",
        "cursor.close()\n",
        "conn.close()\n",
        "\n"
      ]
    },
    {
      "cell_type": "code",
      "execution_count": 31,
      "metadata": {
        "id": "MP4Pdm4-ClIT"
      },
      "outputs": [],
      "source": [
        "from langchain_google_genai import ChatGoogleGenerativeAI\n",
        "from langchain_core.messages import HumanMessage, SystemMessage\n",
        "from langgraph.prebuilt import create_react_agent\n",
        "from langchain_community.agent_toolkits import SQLDatabaseToolkit\n",
        "from langchain.sql_database import SQLDatabase\n",
        "from langchain.tools import Tool"
      ]
    },
    {
      "cell_type": "markdown",
      "metadata": {
        "id": "TiBAmcAVbIDy"
      },
      "source": [
        "RAG"
      ]
    },
    {
      "cell_type": "code",
      "execution_count": 6,
      "metadata": {
        "id": "8JK3jS2mbHXB"
      },
      "outputs": [],
      "source": [
        "from pypdf import PdfReader\n",
        "import glob\n",
        "from langchain.text_splitter import RecursiveCharacterTextSplitter\n",
        "from langchain_community.document_loaders import PyPDFLoader\n",
        "from langchain_community.vectorstores import FAISS\n",
        "from langchain_google_genai import GoogleGenerativeAIEmbeddings\n",
        "from langchain_community.embeddings import HuggingFaceEmbeddings\n",
        "from langchain.tools import StructuredTool\n",
        "from pydantic import BaseModel, Field"
      ]
    },
    {
      "cell_type": "code",
      "execution_count": 34,
      "metadata": {
        "id": "NigIU0oNrPT4"
      },
      "outputs": [],
      "source": [
        "from langchain.chains import create_retrieval_chain\n",
        "from langchain.chains.combine_documents import create_stuff_documents_chain\n",
        "from langchain_core.prompts import ChatPromptTemplate"
      ]
    },
    {
      "cell_type": "code",
      "execution_count": 8,
      "metadata": {
        "id": "OqpWlTclXk34"
      },
      "outputs": [],
      "source": [
        "pdf_folder = \"/content/pdf_books\"\n",
        "if not os.path.exists(pdf_folder):\n",
        "    os.makedirs(pdf_folder)"
      ]
    },
    {
      "cell_type": "code",
      "source": [
        "db = SQLDatabase.from_uri(f\"sqlite:///{db_path}\")\n",
        "model = ChatGoogleGenerativeAI(model='gemini-2.5-flash')"
      ],
      "metadata": {
        "id": "Ly3msZxF-plx"
      },
      "execution_count": 9,
      "outputs": []
    },
    {
      "cell_type": "code",
      "execution_count": 14,
      "metadata": {
        "colab": {
          "base_uri": "https://localhost:8080/"
        },
        "id": "7zUPNUsj3ctj",
        "outputId": "cfe347de-8f76-4fef-f816-d81accc6b3b3"
      },
      "outputs": [
        {
          "output_type": "stream",
          "name": "stdout",
          "text": [
            "\u001b[2K   \u001b[90m━━━━━━━━━━━━━━━━━━━━━━━━━━━━━━━━━━━━━━━━\u001b[0m \u001b[32m31.4/31.4 MB\u001b[0m \u001b[31m60.0 MB/s\u001b[0m eta \u001b[36m0:00:00\u001b[0m\n",
            "\u001b[?25h"
          ]
        }
      ],
      "source": [
        "%pip install -q faiss-cpu\n",
        "# %pip install -q faiss-gpu"
      ]
    },
    {
      "cell_type": "code",
      "execution_count": 15,
      "metadata": {
        "id": "0GG_JFEBaI0G"
      },
      "outputs": [],
      "source": [
        "encode_kwargs = {'normalize_embeddings': True}\n",
        "model_kwargs = {'device': 'cpu'}\n",
        "embedding_model = HuggingFaceEmbeddings(\n",
        "    model_name=\"BAAI/bge-m3\",\n",
        "    model_kwargs=model_kwargs,\n",
        "    encode_kwargs=encode_kwargs\n",
        ")\n",
        "\n",
        "def build_vectostore_for_books():\n",
        "  all_docs = []\n",
        "  for book in os.listdir(pdf_folder):\n",
        "    if book.endswith(\".pdf\"):\n",
        "      loader = PyPDFLoader(os.path.join(pdf_folder, book))\n",
        "      docs = loader.load()\n",
        "      text_splitter = RecursiveCharacterTextSplitter(chunk_size=1000, chunk_overlap=200)\n",
        "      chunks = text_splitter.split_documents(docs)\n",
        "      all_docs.extend(chunks)\n",
        "  return FAISS.from_documents(all_docs, embedding_model)\n",
        "\n",
        "vectorstores = build_vectostore_for_books()\n",
        "retriever = vectorstores.as_retriever()\n",
        "\n",
        "system_prompt = (\n",
        "    \"You are an assistant for question-answering tasks. \"\n",
        "    \"Use the following pieces of retrieved context to answer \"\n",
        "    \"the question. If you don't know the answer, say that you \"\n",
        "    \"don't know. Use three sentences maximum and keep the \"\n",
        "    \"answer concise. Always answer the same language with user query\"\n",
        "    \"\\n\\n\"\n",
        "    \"{context}\"\n",
        ")\n",
        "\n",
        "prompt = ChatPromptTemplate.from_messages(\n",
        "    [\n",
        "        (\"system\", system_prompt),\n",
        "        (\"human\", \"{input}\"),\n",
        "    ]\n",
        ")\n",
        "\n",
        "question_answer_chain = create_stuff_documents_chain(model, prompt)\n",
        "qa_chain = create_retrieval_chain(retriever, question_answer_chain)\n"
      ]
    },
    {
      "cell_type": "code",
      "execution_count": 16,
      "metadata": {
        "id": "NDhwVefuzDxu"
      },
      "outputs": [],
      "source": [
        "class BookQueryInput(BaseModel):\n",
        "    query: str = Field(..., description=\"User's question about the book content in stock, e.g., 'What is Chapter 2 of Chatbot about?'\")\n",
        "\n",
        "def book_rag(query: str):\n",
        "    response = qa_chain.invoke({\"input\": query})\n",
        "    answer = response.get(\"answer\", response.get(\"result\", \"No answer found.\"))\n",
        "    sources = [doc.metadata.get(\"source\", \"\") for doc in response.get(\"context\", [])]\n",
        "    return f\"Answer: {answer}\\nSources: {sources}\"\n",
        "\n",
        "book_rag_tool = StructuredTool.from_function(\n",
        "    func=book_rag,\n",
        "    args_schema=BookQueryInput,\n",
        "    description=\"Search and retrieve the content of books in stock based on PDF files located in pdf_folder.\")"
      ]
    },
    {
      "cell_type": "markdown",
      "source": [
        "**SQL**"
      ],
      "metadata": {
        "id": "4ZfoecGArcVu"
      }
    },
    {
      "cell_type": "code",
      "execution_count": 18,
      "metadata": {
        "id": "nhBO4ItCJQhE"
      },
      "outputs": [],
      "source": [
        "from pydantic import BaseModel, Field\n",
        "from langchain.tools import StructuredTool\n",
        "\n",
        "class OrderInput(BaseModel):\n",
        "    customer_name: str = Field(..., description=\"Customer name\")\n",
        "    phone: str = Field(..., description=\"Customer phone number\")\n",
        "    address: str = Field(..., description=\"Customer address\")\n",
        "    book_id: int = Field(..., description=\"Book id\")\n",
        "    quantity: int = Field(..., description=\"Quantity to order\")\n",
        "    status: str = Field(..., description=\"Order status\")\n",
        "\n",
        "def oder(customer_name: str, phone: str, address: str, book_id: int, quantity: int, status: str):\n",
        "    conn = sqlite3.connect(db_path)\n",
        "    cursor = conn.cursor()\n",
        "\n",
        "    cursor.execute(\"SELECT * FROM Books WHERE book_id = ?\", (book_id,))\n",
        "    book = cursor.fetchone()\n",
        "    if book is None:\n",
        "        cursor.close()\n",
        "        conn.close()\n",
        "        return f\"Book with ID {book_id} not found\"\n",
        "    if book[4] < quantity:\n",
        "        cursor.close()\n",
        "        conn.close()\n",
        "        return f\"Not enough stock for book with ID {book_id}\"\n",
        "\n",
        "    cursor.execute(\n",
        "        \"INSERT INTO Orders VALUES (NULL,?,?,?,?,?,?)\",\n",
        "        (customer_name, phone, address, book_id, quantity, status)\n",
        "    )\n",
        "    conn.commit()\n",
        "    cursor.close()\n",
        "    conn.close()\n",
        "    return f\"Order placed successfully.\"\n",
        "\n",
        "order_tool = StructuredTool.from_function(\n",
        "    func=oder,\n",
        "    args_schema=OrderInput,\n",
        "    description=\"Place an order into the Orders table.\"\n",
        ")"
      ]
    },
    {
      "cell_type": "code",
      "execution_count": null,
      "metadata": {
        "id": "_LbDhAg_sTol"
      },
      "outputs": [],
      "source": [
        "SQL_PREFIX = \"\"\"You are an agent designed to interact with a SQL database.\n",
        "Given an input question, create a syntactically correct SQLite query to run, then look at the results of the query and return the answer.\n",
        "Unless the user specifies a specific number of examples they wish to obtain, always limit your query to at most 2 results.\n",
        "You can order the results by a relevant column to return the most interesting examples in the database.\n",
        "Never query for all the columns from a specific table, only ask for the relevant columns given the question.\n",
        "You have access to tools for interacting with the database.\n",
        "Only use the below tools. Only use the information returned by the below tools to construct your final answer.\n",
        "You MUST double check your query before executing it. If you get an error while executing a query, rewrite the query and try again.\n",
        "\n",
        "DO NOT make any DML statements (INSERT, UPDATE, DELETE, DROP etc.) to the books table in database. Can make any changes to the orders table in database\n",
        "\n",
        "To start you should ALWAYS look at the tables in the database to see what you can query.\n",
        "Do NOT skip this step.\n",
        "Then you should query the schema of the most relevant tables.\"\"\"\n",
        "\n",
        "system_message = SystemMessage(content=SQL_PREFIX)\n",
        "toolkit = SQLDatabaseToolkit(db=db, llm=model)\n",
        "tools = toolkit.get_tools()\n",
        "tools.append(order_tool)\n",
        "tools.append(book_rag_tool)\n",
        "agent_executor = create_react_agent(model=model, tools=tools, prompt=system_message)"
      ]
    },
    {
      "cell_type": "code",
      "source": [
        "def ask_agent(agent_executor, query:str):\n",
        "  result = agent_executor.invoke({\"messages\": [HumanMessage(content=query)]})\n",
        "  final_answer = None\n",
        "  for msg in reversed(result[\"messages\"]):\n",
        "      if hasattr(msg, \"content\") and msg.content.strip():\n",
        "          final_answer = msg.content\n",
        "          break\n",
        "  return final_answer"
      ],
      "metadata": {
        "id": "E62iOO3N32X-"
      },
      "execution_count": 36,
      "outputs": []
    },
    {
      "cell_type": "markdown",
      "metadata": {
        "id": "oSwwLViWXJI8"
      },
      "source": [
        "**VERIFY**"
      ]
    },
    {
      "cell_type": "code",
      "execution_count": null,
      "metadata": {
        "id": "3sWZkPxeU6-e"
      },
      "outputs": [],
      "source": [
        "print(db.table_info)"
      ]
    },
    {
      "cell_type": "code",
      "execution_count": null,
      "metadata": {
        "colab": {
          "base_uri": "https://localhost:8080/"
        },
        "id": "KMyrXYJPJe8y",
        "outputId": "64cc27d9-6d3c-4996-8296-875ff6d5b320"
      },
      "outputs": [
        {
          "name": "stdout",
          "output_type": "stream",
          "text": [
            "{'agent': {'messages': [AIMessage(content='', additional_kwargs={'function_call': {'name': 'sql_db_list_tables', 'arguments': '{}'}}, response_metadata={'prompt_feedback': {'block_reason': 0, 'safety_ratings': []}, 'finish_reason': 'STOP', 'model_name': 'gemini-2.5-flash', 'safety_ratings': [], 'grounding_metadata': {}, 'model_provider': 'google_genai'}, id='lc_run--24ccd980-458c-43d5-9aac-7eb6690fde51-0', tool_calls=[{'name': 'sql_db_list_tables', 'args': {}, 'id': 'ef723a53-2c6f-4e62-a524-08ea02624b58', 'type': 'tool_call'}], usage_metadata={'input_tokens': 777, 'output_tokens': 99, 'total_tokens': 876, 'input_token_details': {'cache_read': 0}, 'output_token_details': {'reasoning': 85}})]}}\n",
            "----\n",
            "{'tools': {'messages': [ToolMessage(content='Books, Orders', name='sql_db_list_tables', id='23d371ad-d4c1-42af-bc52-fae4f5d4f233', tool_call_id='ef723a53-2c6f-4e62-a524-08ea02624b58')]}}\n",
            "----\n",
            "{'agent': {'messages': [AIMessage(content='', additional_kwargs={'function_call': {'name': 'sql_db_schema', 'arguments': '{\"table_names\": \"Books\"}'}}, response_metadata={'prompt_feedback': {'block_reason': 0, 'safety_ratings': []}, 'finish_reason': 'STOP', 'model_name': 'gemini-2.5-flash', 'safety_ratings': [], 'grounding_metadata': {}, 'model_provider': 'google_genai'}, id='lc_run--1893fabc-3b90-4555-8172-a2b71c14ba41-0', tool_calls=[{'name': 'sql_db_schema', 'args': {'table_names': 'Books'}, 'id': 'fb47ca9d-9ca9-43ca-9d3a-1d2ad404bfa3', 'type': 'tool_call'}], usage_metadata={'input_tokens': 812, 'output_tokens': 88, 'total_tokens': 900, 'input_token_details': {'cache_read': 670}, 'output_token_details': {'reasoning': 69}})]}}\n",
            "----\n",
            "{'tools': {'messages': [ToolMessage(content='\\nCREATE TABLE \"Books\" (\\n\\tbook_id INTEGER, \\n\\ttitle TEXT, \\n\\tauthor TEXT, \\n\\tprice REAL, \\n\\tstock INTEGER, \\n\\tcategory TEXT, \\n\\tPRIMARY KEY (book_id)\\n)\\n\\n/*\\n3 rows from Books table:\\nbook_id\\ttitle\\tauthor\\tprice\\tstock\\tcategory\\n1\\tChatbot\\tVinh\\t24.04\\t1\\tTest\\n2\\tUser manual\\tVinh2\\t2003.0\\t5\\tManual\\n*/', name='sql_db_schema', id='0f1b8ef6-0181-4392-8260-82082bb8a8fb', tool_call_id='fb47ca9d-9ca9-43ca-9d3a-1d2ad404bfa3')]}}\n",
            "----\n",
            "{'agent': {'messages': [AIMessage(content='', additional_kwargs={'function_call': {'name': 'sql_db_query_checker', 'arguments': '{\"query\": \"SELECT book_id FROM Books WHERE title = \\'Chatbot\\'\"}'}}, response_metadata={'prompt_feedback': {'block_reason': 0, 'safety_ratings': []}, 'finish_reason': 'STOP', 'model_name': 'gemini-2.5-flash', 'safety_ratings': [], 'grounding_metadata': {}, 'model_provider': 'google_genai'}, id='lc_run--dc5b8de1-e3d6-45f1-9a31-9663f99a22c0-0', tool_calls=[{'name': 'sql_db_query_checker', 'args': {'query': \"SELECT book_id FROM Books WHERE title = 'Chatbot'\"}, 'id': '5757280e-6a59-4267-b53f-c9d0cb7d854e', 'type': 'tool_call'}], usage_metadata={'input_tokens': 996, 'output_tokens': 31, 'total_tokens': 1027, 'input_token_details': {'cache_read': 710}})]}}\n",
            "----\n",
            "{'tools': {'messages': [ToolMessage(content=\"SELECT book_id FROM Books WHERE title = 'Chatbot'\", name='sql_db_query_checker', id='e18ee291-0c01-463b-8f17-aeea203f8b0f', tool_call_id='5757280e-6a59-4267-b53f-c9d0cb7d854e')]}}\n",
            "----\n",
            "{'agent': {'messages': [AIMessage(content='', additional_kwargs={'function_call': {'name': 'sql_db_query', 'arguments': '{\"query\": \"SELECT book_id FROM Books WHERE title = \\'Chatbot\\'\"}'}}, response_metadata={'prompt_feedback': {'block_reason': 0, 'safety_ratings': []}, 'finish_reason': 'STOP', 'model_name': 'gemini-2.5-flash', 'safety_ratings': [], 'grounding_metadata': {}, 'model_provider': 'google_genai'}, id='lc_run--a75ecabb-17b4-46de-aeb9-d316beae3784-0', tool_calls=[{'name': 'sql_db_query', 'args': {'query': \"SELECT book_id FROM Books WHERE title = 'Chatbot'\"}, 'id': 'c6f6ca70-1bea-43b8-a87d-dfa38eb04159', 'type': 'tool_call'}], usage_metadata={'input_tokens': 1058, 'output_tokens': 29, 'total_tokens': 1087, 'input_token_details': {'cache_read': 717}})]}}\n",
            "----\n",
            "{'tools': {'messages': [ToolMessage(content='[(1,)]', name='sql_db_query', id='c76600b3-06c7-4edd-8c5c-0ac425635ab1', tool_call_id='c6f6ca70-1bea-43b8-a87d-dfa38eb04159')]}}\n",
            "----\n",
            "{'agent': {'messages': [AIMessage(content='', additional_kwargs={'function_call': {'name': 'oder', 'arguments': '{\"book_id\": 1, \"quantity\": 5, \"status\": \"Pending\", \"address\": \"Hanoi\", \"phone\": \"012345678\", \"customer_name\": \"VinhDV\"}'}}, response_metadata={'prompt_feedback': {'block_reason': 0, 'safety_ratings': []}, 'finish_reason': 'STOP', 'model_name': 'gemini-2.5-flash', 'safety_ratings': [], 'grounding_metadata': {}, 'model_provider': 'google_genai'}, id='lc_run--aad505f8-f5f2-487e-a4ab-18900287812e-0', tool_calls=[{'name': 'oder', 'args': {'book_id': 1, 'quantity': 5, 'status': 'Pending', 'address': 'Hanoi', 'phone': '012345678', 'customer_name': 'VinhDV'}, 'id': '10956647-a85a-48eb-9ac1-eee74aca60b8', 'type': 'tool_call'}], usage_metadata={'input_tokens': 1107, 'output_tokens': 53, 'total_tokens': 1160, 'input_token_details': {'cache_read': 721}})]}}\n",
            "----\n",
            "{'tools': {'messages': [ToolMessage(content='Not enough stock for book with ID 1', name='oder', id='5228f05c-7454-46a5-a0a7-37cd32e108a4', tool_call_id='10956647-a85a-48eb-9ac1-eee74aca60b8')]}}\n",
            "----\n",
            "{'agent': {'messages': [AIMessage(content='I am sorry, but there are not enough copies of Chatbot in stock to fulfill your order. There is only 1 copy available, and you requested 5.', additional_kwargs={}, response_metadata={'prompt_feedback': {'block_reason': 0, 'safety_ratings': []}, 'finish_reason': 'STOP', 'model_name': 'gemini-2.5-flash', 'safety_ratings': [], 'grounding_metadata': {}, 'model_provider': 'google_genai'}, id='lc_run--d8cecd1f-4767-4d03-a9d1-65bc86a0d396-0', usage_metadata={'input_tokens': 1181, 'output_tokens': 34, 'total_tokens': 1215, 'input_token_details': {'cache_read': 729}})]}}\n",
            "----\n"
          ]
        }
      ],
      "source": [
        "import time\n",
        "for s in agent_executor.stream(\n",
        "    {\"messages\": [HumanMessage(content=\"I want to order 5 copy of Chatbot. My name is VinhDV, phone 012345678, address Hanoi\")]}\n",
        "):\n",
        "    time.sleep(5)\n",
        "    print(s)\n",
        "    print(\"----\")"
      ]
    },
    {
      "cell_type": "code",
      "execution_count": null,
      "metadata": {
        "colab": {
          "base_uri": "https://localhost:8080/"
        },
        "id": "geXy-82GZfmE",
        "outputId": "dd03cec6-4441-4b44-b4c0-187ecaad55f0"
      },
      "outputs": [
        {
          "name": "stdout",
          "output_type": "stream",
          "text": [
            "{'agent': {'messages': [AIMessage(content='', additional_kwargs={'function_call': {'name': 'sql_db_list_tables', 'arguments': '{}'}}, response_metadata={'prompt_feedback': {'block_reason': 0, 'safety_ratings': []}, 'finish_reason': 'STOP', 'model_name': 'gemini-2.5-flash', 'safety_ratings': [], 'grounding_metadata': {}, 'model_provider': 'google_genai'}, id='lc_run--fdda23d1-51d2-4a9b-82be-283ec26cfc15-0', tool_calls=[{'name': 'sql_db_list_tables', 'args': {}, 'id': 'd6907f9b-46d7-4521-b4b9-76420007d60d', 'type': 'tool_call'}], usage_metadata={'input_tokens': 777, 'output_tokens': 100, 'total_tokens': 877, 'input_token_details': {'cache_read': 0}, 'output_token_details': {'reasoning': 86}})]}}\n",
            "----\n",
            "{'tools': {'messages': [ToolMessage(content='Books, Orders', name='sql_db_list_tables', id='1b752da4-46ad-4250-9b2c-f130762a0837', tool_call_id='d6907f9b-46d7-4521-b4b9-76420007d60d')]}}\n",
            "----\n",
            "{'agent': {'messages': [AIMessage(content='', additional_kwargs={'function_call': {'name': 'sql_db_schema', 'arguments': '{\"table_names\": \"Books\"}'}}, response_metadata={'prompt_feedback': {'block_reason': 0, 'safety_ratings': []}, 'finish_reason': 'STOP', 'model_name': 'gemini-2.5-flash', 'safety_ratings': [], 'grounding_metadata': {}, 'model_provider': 'google_genai'}, id='lc_run--cc56e9b3-42db-46ae-8d6d-a914a05c9c20-0', tool_calls=[{'name': 'sql_db_schema', 'args': {'table_names': 'Books'}, 'id': '8274a0a7-da35-4158-acb4-d0cdc576148a', 'type': 'tool_call'}], usage_metadata={'input_tokens': 812, 'output_tokens': 94, 'total_tokens': 906, 'input_token_details': {'cache_read': 670}, 'output_token_details': {'reasoning': 75}})]}}\n",
            "----\n",
            "{'tools': {'messages': [ToolMessage(content='\\nCREATE TABLE \"Books\" (\\n\\tbook_id INTEGER, \\n\\ttitle TEXT, \\n\\tauthor TEXT, \\n\\tprice REAL, \\n\\tstock INTEGER, \\n\\tcategory TEXT, \\n\\tPRIMARY KEY (book_id)\\n)\\n\\n/*\\n3 rows from Books table:\\nbook_id\\ttitle\\tauthor\\tprice\\tstock\\tcategory\\n1\\tChatbot\\tVinh\\t24.04\\t1\\tTest\\n2\\tUser manual\\tVinh2\\t2003.0\\t5\\tManual\\n*/', name='sql_db_schema', id='0d27a0e6-6125-4870-9d9b-b7a4a1bee3c1', tool_call_id='8274a0a7-da35-4158-acb4-d0cdc576148a')]}}\n",
            "----\n",
            "{'agent': {'messages': [AIMessage(content='', additional_kwargs={'function_call': {'name': 'oder', 'arguments': '{\"book_id\": 1, \"address\": \"Hanoi\", \"status\": \"Pending\", \"quantity\": 1, \"phone\": \"012345678\", \"customer_name\": \"VinhDV\"}'}}, response_metadata={'prompt_feedback': {'block_reason': 0, 'safety_ratings': []}, 'finish_reason': 'STOP', 'model_name': 'gemini-2.5-flash', 'safety_ratings': [], 'grounding_metadata': {}, 'model_provider': 'google_genai'}, id='lc_run--a7a61ec4-5d44-4222-b7a9-38808791f6d4-0', tool_calls=[{'name': 'oder', 'args': {'book_id': 1, 'address': 'Hanoi', 'status': 'Pending', 'quantity': 1, 'phone': '012345678', 'customer_name': 'VinhDV'}, 'id': 'e11560f1-2353-4abf-90c7-c56dcba9a2fb', 'type': 'tool_call'}], usage_metadata={'input_tokens': 996, 'output_tokens': 53, 'total_tokens': 1049, 'input_token_details': {'cache_read': 710}})]}}\n",
            "----\n",
            "{'tools': {'messages': [ToolMessage(content='Order placed successfully.', name='oder', id='fe632170-0171-463a-9e3a-36809df3cc0c', tool_call_id='e11560f1-2353-4abf-90c7-c56dcba9a2fb')]}}\n",
            "----\n",
            "{'agent': {'messages': [AIMessage(content='Your order for 1 copy of Chatbot has been placed successfully.', additional_kwargs={}, response_metadata={'prompt_feedback': {'block_reason': 0, 'safety_ratings': []}, 'finish_reason': 'STOP', 'model_name': 'gemini-2.5-flash', 'safety_ratings': [], 'grounding_metadata': {}, 'model_provider': 'google_genai'}, id='lc_run--cff2fb19-4e00-411c-ac95-3a87f0d4911e-0', usage_metadata={'input_tokens': 1065, 'output_tokens': 14, 'total_tokens': 1079, 'input_token_details': {'cache_read': 718}})]}}\n",
            "----\n"
          ]
        }
      ],
      "source": [
        "import time\n",
        "for s in agent_executor.stream(\n",
        "    {\"messages\": [HumanMessage(content=\"I want to order 1 copy of Chatbot. My name is VinhDV, phone 012345678, address Hanoi\")]}\n",
        "):\n",
        "    time.sleep(5)\n",
        "    print(s)\n",
        "    print(\"----\")"
      ]
    },
    {
      "cell_type": "code",
      "source": [
        "import time\n",
        "for s in agent_executor.stream(\n",
        "    {\"messages\": [HumanMessage(content=\"Sách Chatbot có nội dung chính là gì?\")]}\n",
        "):\n",
        "    time.sleep(5)\n",
        "    print(s)\n",
        "    print(\"----\")"
      ],
      "metadata": {
        "colab": {
          "base_uri": "https://localhost:8080/"
        },
        "id": "U8pRgo6uDOum",
        "outputId": "f9f8a6ee-ab87-4172-f9c3-21dc67ed95e7"
      },
      "execution_count": null,
      "outputs": [
        {
          "output_type": "stream",
          "name": "stdout",
          "text": [
            "{'agent': {'messages': [AIMessage(content='', additional_kwargs={'function_call': {'name': 'book_rag', 'arguments': '{\"query\": \"S\\\\u00e1ch Chatbot c\\\\u00f3 n\\\\u1ed9i dung ch\\\\u00ednh l\\\\u00e0 g\\\\u00ec?\"}'}}, response_metadata={'prompt_feedback': {'block_reason': 0, 'safety_ratings': []}, 'finish_reason': 'STOP', 'model_name': 'gemini-2.5-flash', 'safety_ratings': []}, id='run--36ccbd41-01b8-4e7b-8bab-17228e9aff12-0', tool_calls=[{'name': 'book_rag', 'args': {'query': 'Sách Chatbot có nội dung chính là gì?'}, 'id': 'e5bb1b9a-1e0a-4b9d-848b-abef5d5cec76', 'type': 'tool_call'}], usage_metadata={'input_tokens': 838, 'output_tokens': 87, 'total_tokens': 925, 'input_token_details': {'cache_read': 684}, 'output_token_details': {'reasoning': 62}})]}}\n",
            "----\n",
            "{'tools': {'messages': [ToolMessage(content='Answer: Sách \"Cẩm Nang Chatbot\" cung cấp kiến thức toàn diện về chatbot, từ định nghĩa cơ bản và cách chúng hoạt động đến các ứng dụng thực tiễn trong kinh doanh, đặc biệt là dịch vụ khách hàng và thương mại điện tử. Sách cũng đi sâu vào cơ chế xử lý yêu cầu của chatbot như NLP, Intent, Entity và RAG, đồng thời thảo luận về những thách thức cũng như tương lai của công nghệ này.\\nSources: [\\'/content/pdf_books/Chatbot.pdf\\', \\'/content/pdf_books/Chatbot.pdf\\', \\'/content/pdf_books/Chatbot.pdf\\', \\'/content/pdf_books/Chatbot.pdf\\']', name='book_rag', id='adf0a360-2c16-4eff-8f00-6dd853745356', tool_call_id='e5bb1b9a-1e0a-4b9d-848b-abef5d5cec76')]}}\n",
            "----\n",
            "{'agent': {'messages': [AIMessage(content='Sách \"Cẩm Nang Chatbot\" cung cấp kiến thức toàn diện về chatbot, từ định nghĩa cơ bản và cách chúng hoạt động đến các ứng dụng thực tiễn trong kinh doanh, đặc biệt là dịch vụ khách hàng và thương mại điện tử. Sách cũng đi sâu vào cơ chế xử lý yêu cầu của chatbot như NLP, Intent, Entity và RAG, đồng thời thảo luận về những thách thức cũng như tương lai của công nghệ này.', additional_kwargs={}, response_metadata={'prompt_feedback': {'block_reason': 0, 'safety_ratings': []}, 'finish_reason': 'STOP', 'model_name': 'gemini-2.5-flash', 'safety_ratings': []}, id='run--c6509d01-8d7d-42e8-9152-a249b6d60c40-0', usage_metadata={'input_tokens': 1032, 'output_tokens': 93, 'total_tokens': 1125, 'input_token_details': {'cache_read': 723}})]}}\n",
            "----\n"
          ]
        }
      ]
    },
    {
      "cell_type": "code",
      "source": [
        "query = \"Sách user manual có nội dung chính là gì?\"\n",
        "answer = ask_agent(agent_executor, query)\n",
        "print(answer)"
      ],
      "metadata": {
        "colab": {
          "base_uri": "https://localhost:8080/"
        },
        "id": "6yEuqCjHG5xF",
        "outputId": "4cce3065-10fa-4597-da0d-676d6f9b2172"
      },
      "execution_count": 37,
      "outputs": [
        {
          "output_type": "stream",
          "name": "stdout",
          "text": [
            "Sách \"Hướng Dẫn Sử Dụng Nền Tảng Trợ Lý Ảo\" giới thiệu về nền tảng trợ lý ảo, mục tiêu và công nghệ của nó. Sách cũng hướng dẫn chi tiết cách đăng ký, đăng nhập tài khoản, và cách khắc phục lỗi hoặc liên hệ hỗ trợ khi cần thiết.\n"
          ]
        }
      ]
    },
    {
      "cell_type": "code",
      "source": [
        "query = \"Tôi muốn đặt 5 sách chatbot\"\n",
        "answer = ask_agent(agent_executor, query)\n",
        "print(answer)"
      ],
      "metadata": {
        "colab": {
          "base_uri": "https://localhost:8080/"
        },
        "id": "Rm7bmAsHGNOY",
        "outputId": "8afe68cc-1369-4d24-b081-364cfd3fb4a4"
      },
      "execution_count": null,
      "outputs": [
        {
          "output_type": "stream",
          "name": "stdout",
          "text": [
            "Bạn muốn đặt 5 sách chatbot. Để đặt hàng tôi cần thông tin của bạn. Vui lòng cung cấp tên, số điện thoại và địa chỉ của bạn.\n"
          ]
        }
      ]
    },
    {
      "cell_type": "code",
      "source": [
        "query = \"Tôi muốn đặt 5 sách chatbot. Tên tôi là Vinh, sdt 012345678, địa chỉ Hà Nội\"\n",
        "answer = ask_agent(agent_executor, query)\n",
        "print(answer)"
      ],
      "metadata": {
        "colab": {
          "base_uri": "https://localhost:8080/"
        },
        "id": "KD4L0BK_GZWl",
        "outputId": "2d090e39-da75-4983-c470-7b4abb457041"
      },
      "execution_count": null,
      "outputs": [
        {
          "output_type": "stream",
          "name": "stdout",
          "text": [
            "Xin lỗi, hiện tại sách Chatbot không đủ số lượng để bạn đặt 5 cuốn. Chỉ còn 1 cuốn trong kho. Bạn có muốn đặt 1 cuốn không?\n"
          ]
        }
      ]
    },
    {
      "cell_type": "code",
      "source": [
        "query = \"Tôi muốn đặt 2 sách user manual. Tên tôi là Vinh, sdt 012345678, địa chỉ Hà Nội\"\n",
        "answer = ask_agent(agent_executor, query)\n",
        "print(answer)"
      ],
      "metadata": {
        "colab": {
          "base_uri": "https://localhost:8080/"
        },
        "id": "kWcKdpMxGmwq",
        "outputId": "24f8e487-ed41-4dd5-cd8d-e67ec650068d"
      },
      "execution_count": 39,
      "outputs": [
        {
          "output_type": "stream",
          "name": "stdout",
          "text": [
            "Bạn đã đặt 2 sách user manual thành công.\n"
          ]
        }
      ]
    },
    {
      "cell_type": "code",
      "source": [
        "query = \"Trong kho có những thể loại sách gì\"\n",
        "answer = ask_agent(agent_executor, query)\n",
        "print(answer)"
      ],
      "metadata": {
        "colab": {
          "base_uri": "https://localhost:8080/"
        },
        "id": "VC3A3QYO7HoK",
        "outputId": "09a3d23e-d501-407e-e672-6e43a9179c62"
      },
      "execution_count": 40,
      "outputs": [
        {
          "output_type": "stream",
          "name": "stdout",
          "text": [
            "Trong kho có các thể loại sách là: Test, Manual.\n"
          ]
        }
      ]
    }
  ],
  "metadata": {
    "colab": {
      "provenance": [],
      "gpuType": "T4",
      "authorship_tag": "ABX9TyOVZtAvBmdXiP7FhavayGT6",
      "include_colab_link": true
    },
    "kernelspec": {
      "display_name": "Python 3",
      "name": "python3"
    },
    "language_info": {
      "name": "python"
    },
    "accelerator": "GPU"
  },
  "nbformat": 4,
  "nbformat_minor": 0
}