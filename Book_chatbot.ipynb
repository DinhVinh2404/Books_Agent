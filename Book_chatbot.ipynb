{
  "nbformat": 4,
  "nbformat_minor": 0,
  "metadata": {
    "colab": {
      "provenance": [],
      "authorship_tag": "ABX9TyMlHbenTE90vUogH5QILyaB",
      "include_colab_link": true
    },
    "kernelspec": {
      "name": "python3",
      "display_name": "Python 3"
    },
    "language_info": {
      "name": "python"
    }
  },
  "cells": [
    {
      "cell_type": "markdown",
      "metadata": {
        "id": "view-in-github",
        "colab_type": "text"
      },
      "source": [
        "<a href=\"https://colab.research.google.com/github/DinhVinh2404/Books_Agent/blob/main/Book_chatbot.ipynb\" target=\"_parent\"><img src=\"https://colab.research.google.com/assets/colab-badge.svg\" alt=\"Open In Colab\"/></a>"
      ]
    },
    {
      "cell_type": "code",
      "execution_count": null,
      "metadata": {
        "collapsed": true,
        "id": "cU9t1_nWf9bC"
      },
      "outputs": [],
      "source": [
        "%pip install -q langchain==0.3.7 langchain-community==0.3.5 sqlalchemy==2.0.35 ipython-sql"
      ]
    },
    {
      "cell_type": "code",
      "source": [
        "from google.colab import userdata\n",
        "import os\n",
        "if not os.environ.get(\"GOOGLE_API_KEY\"):\n",
        "    os.environ[\"GOOGLE_API_KEY\"] = userdata.get(\"GOOGLE_API_KEY\")"
      ],
      "metadata": {
        "id": "FA1zxdaQkEms"
      },
      "execution_count": 2,
      "outputs": []
    },
    {
      "cell_type": "markdown",
      "source": [
        "**CREAT TABLES**"
      ],
      "metadata": {
        "id": "arO7NfEXot8c"
      }
    },
    {
      "cell_type": "code",
      "source": [
        "import sqlite3\n",
        "\n",
        "db_path = \"/content/books.db\"\n",
        "if os.path.exists(db_path):\n",
        "    os.remove(db_path)\n",
        "\n",
        "conn = sqlite3.connect(db_path)\n",
        "cursor = conn.cursor()\n",
        "\n",
        "cursor.execute('''\n",
        "  CREATE TABLE IF NOT EXISTS Books (\n",
        "    book_id INTEGER PRIMARY KEY,\n",
        "    title TEXT,\n",
        "    author TEXT,\n",
        "    price REAL,\n",
        "    stock INTEGER,\n",
        "    category TEXT\n",
        "  )\n",
        "''')\n",
        "\n",
        "cursor.execute('''\n",
        "  CREATE TABLE IF NOT EXISTS Orders (\n",
        "    order_id INTEGER PRIMARY KEY,\n",
        "    customer_name TEXT,\n",
        "    phone TEXT,\n",
        "    address TEXT,\n",
        "    book_id INTEGER,\n",
        "    quantity INTEGER,\n",
        "    status TEXT,\n",
        "    FOREIGN KEY (book_id) REFERENCES Books(book_id)\n",
        "  )\n",
        "''')\n",
        "\n",
        "cursor.execute(\"INSERT INTO Books VALUES (1, 'Chatbot', 'Vinh', 24.04, 1, 'Test')\")\n",
        "cursor.execute(\"INSERT INTO Books VALUES (2, 'User manual', 'Vinh2', 2003, 5, 'Manual')\")\n",
        "conn.commit()\n",
        "cursor.close()\n",
        "conn.close()\n",
        "\n"
      ],
      "metadata": {
        "id": "uNY5rgjEnTQ0"
      },
      "execution_count": 3,
      "outputs": []
    },
    {
      "cell_type": "code",
      "source": [
        "%%capture --no-stderr\n",
        "%pip install -q langgraph==0.3.10\n",
        "%pip install -q langchain-google-genai\n",
        "%pip install -q langgraph"
      ],
      "metadata": {
        "id": "25KksTWo5RDx"
      },
      "execution_count": 4,
      "outputs": []
    },
    {
      "cell_type": "code",
      "source": [
        "from langchain_google_genai import ChatGoogleGenerativeAI\n",
        "from langchain_core.messages import HumanMessage, SystemMessage\n",
        "from langgraph.prebuilt import create_react_agent\n",
        "from langchain_community.agent_toolkits import SQLDatabaseToolkit\n",
        "from langchain.sql_database import SQLDatabase\n",
        "from langchain.tools import Tool"
      ],
      "metadata": {
        "id": "MP4Pdm4-ClIT"
      },
      "execution_count": 5,
      "outputs": []
    },
    {
      "cell_type": "code",
      "source": [
        "db = SQLDatabase.from_uri(f\"sqlite:///{db_path}\")\n",
        "model = ChatGoogleGenerativeAI(model='gemini-2.5-flash')"
      ],
      "metadata": {
        "id": "uWcuTeCXukL5"
      },
      "execution_count": null,
      "outputs": []
    },
    {
      "cell_type": "code",
      "source": [
        "def oder(customer_name, phone, address, book_id, quantity, status):\n",
        "  conn = sqlite3.connect(db_path)\n",
        "  cursor = conn.cursor()\n",
        "\n",
        "  cursor.execute(\"SELECT * FROM Books WHERE book_id = ?\", (book_id))\n",
        "  book = cursor.fetchone()\n",
        "\n",
        "  if book is None:\n",
        "    return f\"Book with ID {book_id} not found\"\n",
        "    cursor.close()\n",
        "  conn.close()\n",
        "\n",
        "  if book[4] < quantity:\n",
        "    return f\"Not enough stock for book with ID {book_id}\"\n",
        "    cursor.close()\n",
        "  conn.close()\n",
        "\n",
        "  cursor.execute(\"INSERT INTO Orders VALUES (NULL,?,?,?,?,?,?)\", (customer_name, phone, address, book_id, quantity, status))\n",
        "  conn.commit()\n",
        "  cursor.close()\n",
        "  conn.close()\n",
        "  return f\"Order placed successfully.\"\n",
        "order_tools = Tool(name=\"oder\", func=oder, description=\"Place an order into the Orders table. Provide customer_name, phone, address, book_id, quantity, status.\",\n",
        "                   args_schema={\n",
        "                       \"customer_name\": str,\n",
        "                       \"phone\": str,\n",
        "                       \"address\": str,\n",
        "                       \"book_id\": int,\n",
        "                       \"quantity\": int,\n",
        "                       \"status\": str\n",
        "                   }\n",
        ")"
      ],
      "metadata": {
        "id": "JLej53yRHVVf"
      },
      "execution_count": 7,
      "outputs": []
    },
    {
      "cell_type": "code",
      "source": [
        "SQL_PREFIX = \"\"\"You are an agent designed to interact with a SQL database.\n",
        "Given an input question, create a syntactically correct SQLite query to run, then look at the results of the query and return the answer.\n",
        "Unless the user specifies a specific number of examples they wish to obtain, always limit your query to at most 2 results.\n",
        "You can order the results by a relevant column to return the most interesting examples in the database.\n",
        "Never query for all the columns from a specific table, only ask for the relevant columns given the question.\n",
        "You have access to tools for interacting with the database.\n",
        "Only use the below tools. Only use the information returned by the below tools to construct your final answer.\n",
        "You MUST double check your query before executing it. If you get an error while executing a query, rewrite the query and try again.\n",
        "\n",
        "DO NOT make any DML statements (INSERT, UPDATE, DELETE, DROP etc.) to the books table in database. Can make any changes to the orders table in database\n",
        "\n",
        "To start you should ALWAYS look at the tables in the database to see what you can query.\n",
        "Do NOT skip this step.\n",
        "Then you should query the schema of the most relevant tables.\"\"\"\n",
        "\n",
        "system_message = SystemMessage(content=SQL_PREFIX)\n",
        "toolkit = SQLDatabaseToolkit(db=db, llm=model)\n",
        "tools = toolkit.get_tools()\n",
        "tools.append(order_tools)\n",
        "agent_executor = create_react_agent(model=model, tools=tools, prompt=system_message)"
      ],
      "metadata": {
        "id": "_LbDhAg_sTol"
      },
      "execution_count": 8,
      "outputs": []
    },
    {
      "cell_type": "code",
      "source": [
        "import time\n",
        "\n",
        "for s in agent_executor.stream(\n",
        "    {\"messages\": [HumanMessage(content=\"Is there a book called Chatbot?\")]}\n",
        "):\n",
        "    time.sleep(5) # Run sleep to prevent execeeding rate limits 60 RPM\n",
        "    print(s)\n",
        "    print(\"----\")"
      ],
      "metadata": {
        "colab": {
          "base_uri": "https://localhost:8080/"
        },
        "id": "EtP6EgGWFcIi",
        "outputId": "d361ef56-d072-4ee4-f1af-1a0981b9ebb0"
      },
      "execution_count": 8,
      "outputs": [
        {
          "output_type": "stream",
          "name": "stdout",
          "text": [
            "{'agent': {'messages': [AIMessage(content='', additional_kwargs={'function_call': {'name': 'sql_db_list_tables', 'arguments': '{\"tool_input\": \"\"}'}}, response_metadata={'prompt_feedback': {'block_reason': 0, 'safety_ratings': []}, 'finish_reason': 'STOP', 'model_name': 'gemini-2.5-flash', 'safety_ratings': []}, id='run--50dac38f-694d-4085-897c-0f9c2e5e2370-0', tool_calls=[{'name': 'sql_db_list_tables', 'args': {'tool_input': ''}, 'id': 'afb2e082-122b-49a2-9a83-395e41f9e453', 'type': 'tool_call'}], usage_metadata={'input_tokens': 622, 'output_tokens': 111, 'total_tokens': 733, 'input_token_details': {'cache_read': 0}, 'output_token_details': {'reasoning': 92}})]}}\n",
            "----\n",
            "{'tools': {'messages': [ToolMessage(content='Books, Orders', name='sql_db_list_tables', id='824bc42d-2e75-485e-b574-e2ed9f40c4d0', tool_call_id='afb2e082-122b-49a2-9a83-395e41f9e453')]}}\n",
            "----\n",
            "{'agent': {'messages': [AIMessage(content='', additional_kwargs={'function_call': {'name': 'sql_db_schema', 'arguments': '{\"table_names\": \"Books\"}'}}, response_metadata={'prompt_feedback': {'block_reason': 0, 'safety_ratings': []}, 'finish_reason': 'STOP', 'model_name': 'gemini-2.5-flash', 'safety_ratings': []}, id='run--c5ae567b-a567-4a57-b7d4-1d201e41e39a-0', tool_calls=[{'name': 'sql_db_schema', 'args': {'table_names': 'Books'}, 'id': '2f2662ac-5cf1-409f-9988-eb1ccf2e5afa', 'type': 'tool_call'}], usage_metadata={'input_tokens': 662, 'output_tokens': 68, 'total_tokens': 730, 'input_token_details': {'cache_read': 621}, 'output_token_details': {'reasoning': 49}})]}}\n",
            "----\n",
            "{'tools': {'messages': [ToolMessage(content='\\nCREATE TABLE \"Books\" (\\n\\tbook_id INTEGER, \\n\\ttitle TEXT, \\n\\tauthor TEXT, \\n\\tprice REAL, \\n\\tstock INTEGER, \\n\\tcategory TEXT, \\n\\tPRIMARY KEY (book_id)\\n)\\n\\n/*\\n3 rows from Books table:\\nbook_id\\ttitle\\tauthor\\tprice\\tstock\\tcategory\\n1\\tChatbot\\tVinh\\t24.04\\t1\\tTest\\n2\\tUser manual\\tVinh2\\t2003.0\\t5\\tManual\\n*/', name='sql_db_schema', id='476d20b5-bb58-418b-9043-37af2ac53646', tool_call_id='2f2662ac-5cf1-409f-9988-eb1ccf2e5afa')]}}\n",
            "----\n",
            "{'agent': {'messages': [AIMessage(content='', additional_kwargs={'function_call': {'name': 'sql_db_query_checker', 'arguments': '{\"query\": \"SELECT title FROM Books WHERE title = \\'Chatbot\\'\"}'}}, response_metadata={'prompt_feedback': {'block_reason': 0, 'safety_ratings': []}, 'finish_reason': 'STOP', 'model_name': 'gemini-2.5-flash', 'safety_ratings': []}, id='run--3ad0fb3f-2fd8-4fcd-afa5-3dc6c455e760-0', tool_calls=[{'name': 'sql_db_query_checker', 'args': {'query': \"SELECT title FROM Books WHERE title = 'Chatbot'\"}, 'id': 'd97faaab-0d5d-4560-a797-206014e5e76c', 'type': 'tool_call'}], usage_metadata={'input_tokens': 846, 'output_tokens': 134, 'total_tokens': 980, 'input_token_details': {'cache_read': 673}, 'output_token_details': {'reasoning': 105}})]}}\n",
            "----\n",
            "{'tools': {'messages': [ToolMessage(content=\"SELECT title FROM Books WHERE title = 'Chatbot'\", name='sql_db_query_checker', id='5d5edbb2-f978-44d0-b34d-fd78f323eb3d', tool_call_id='d97faaab-0d5d-4560-a797-206014e5e76c')]}}\n",
            "----\n",
            "{'agent': {'messages': [AIMessage(content='', additional_kwargs={'function_call': {'name': 'sql_db_query', 'arguments': '{\"query\": \"SELECT title FROM Books WHERE title = \\'Chatbot\\'\"}'}}, response_metadata={'prompt_feedback': {'block_reason': 0, 'safety_ratings': []}, 'finish_reason': 'STOP', 'model_name': 'gemini-2.5-flash', 'safety_ratings': []}, id='run--ad7ab31c-ee1f-4085-90a5-f3839136c9c5-0', tool_calls=[{'name': 'sql_db_query', 'args': {'query': \"SELECT title FROM Books WHERE title = 'Chatbot'\"}, 'id': '1bca07d4-8002-4dc1-8365-edd9b76d748d', 'type': 'tool_call'}], usage_metadata={'input_tokens': 904, 'output_tokens': 27, 'total_tokens': 931, 'input_token_details': {'cache_read': 0}})]}}\n",
            "----\n",
            "{'tools': {'messages': [ToolMessage(content=\"[('Chatbot',)]\", name='sql_db_query', id='f81434a1-98a7-44b5-b234-82e0d7574390', tool_call_id='1bca07d4-8002-4dc1-8365-edd9b76d748d')]}}\n",
            "----\n",
            "{'agent': {'messages': [AIMessage(content='Yes, there is a book called Chatbot.', additional_kwargs={}, response_metadata={'prompt_feedback': {'block_reason': 0, 'safety_ratings': []}, 'finish_reason': 'STOP', 'model_name': 'gemini-2.5-flash', 'safety_ratings': []}, id='run--07f23d64-fa94-43ee-894e-e1ebff60f03b-0', usage_metadata={'input_tokens': 954, 'output_tokens': 10, 'total_tokens': 964, 'input_token_details': {'cache_read': 688}})]}}\n",
            "----\n"
          ]
        }
      ]
    },
    {
      "cell_type": "code",
      "source": [
        "import time\n",
        "for s in agent_executor.stream(\n",
        "    {\"messages\": [HumanMessage(content=\"I want to order 1 copy of Chatbot. My name is VinhDV, phone 012345678, address Hanoi\")]}\n",
        "):\n",
        "    time.sleep(5)\n",
        "    print(s)\n",
        "    print(\"----\")"
      ],
      "metadata": {
        "colab": {
          "base_uri": "https://localhost:8080/"
        },
        "id": "Bs9qjO7IVmU1",
        "outputId": "5ca60c61-6b70-421e-8d4e-29eed8ae8002"
      },
      "execution_count": 12,
      "outputs": [
        {
          "output_type": "stream",
          "name": "stdout",
          "text": [
            "{'agent': {'messages': [AIMessage(content='', additional_kwargs={'function_call': {'name': 'sql_db_list_tables', 'arguments': '{}'}}, response_metadata={'prompt_feedback': {'block_reason': 0, 'safety_ratings': []}, 'finish_reason': 'STOP', 'model_name': 'gemini-2.5-flash', 'safety_ratings': []}, id='run--05647b62-f15a-4755-b7a0-afcc35b77eed-0', tool_calls=[{'name': 'sql_db_list_tables', 'args': {}, 'id': '5c964ba1-6830-4f99-ac52-eeb77525c8d9', 'type': 'tool_call'}], usage_metadata={'input_tokens': 703, 'output_tokens': 71, 'total_tokens': 774, 'input_token_details': {'cache_read': 0}, 'output_token_details': {'reasoning': 57}})]}}\n",
            "----\n",
            "{'tools': {'messages': [ToolMessage(content='Books, Orders', name='sql_db_list_tables', id='a23c283c-67f7-430b-b6d7-681a6c5105c9', tool_call_id='5c964ba1-6830-4f99-ac52-eeb77525c8d9')]}}\n",
            "----\n",
            "{'agent': {'messages': [AIMessage(content='', additional_kwargs={'function_call': {'name': 'sql_db_schema', 'arguments': '{\"table_names\": \"Books\"}'}}, response_metadata={'prompt_feedback': {'block_reason': 0, 'safety_ratings': []}, 'finish_reason': 'STOP', 'model_name': 'gemini-2.5-flash', 'safety_ratings': []}, id='run--1450a459-39f7-48da-bf72-75458680b57e-0', tool_calls=[{'name': 'sql_db_schema', 'args': {'table_names': 'Books'}, 'id': '4289a8f1-89dc-4313-8219-5958d3f44a50', 'type': 'tool_call'}], usage_metadata={'input_tokens': 738, 'output_tokens': 92, 'total_tokens': 830, 'input_token_details': {'cache_read': 648}, 'output_token_details': {'reasoning': 73}})]}}\n",
            "----\n",
            "{'tools': {'messages': [ToolMessage(content='\\nCREATE TABLE \"Books\" (\\n\\tbook_id INTEGER, \\n\\ttitle TEXT, \\n\\tauthor TEXT, \\n\\tprice REAL, \\n\\tstock INTEGER, \\n\\tcategory TEXT, \\n\\tPRIMARY KEY (book_id)\\n)\\n\\n/*\\n3 rows from Books table:\\nbook_id\\ttitle\\tauthor\\tprice\\tstock\\tcategory\\n1\\tChatbot\\tVinh\\t24.04\\t1\\tTest\\n2\\tUser manual\\tVinh2\\t2003.0\\t5\\tManual\\n*/', name='sql_db_schema', id='52f6d35a-5cc6-499a-a35b-298da1dbdf54', tool_call_id='4289a8f1-89dc-4313-8219-5958d3f44a50')]}}\n",
            "----\n",
            "{'agent': {'messages': [AIMessage(content='', additional_kwargs={'function_call': {'name': 'sql_db_query_checker', 'arguments': '{\"query\": \"SELECT book_id FROM Books WHERE title = \\'Chatbot\\'\"}'}}, response_metadata={'prompt_feedback': {'block_reason': 0, 'safety_ratings': []}, 'finish_reason': 'STOP', 'model_name': 'gemini-2.5-flash', 'safety_ratings': []}, id='run--00560590-17c4-420c-b9ec-f09f7f80423a-0', tool_calls=[{'name': 'sql_db_query_checker', 'args': {'query': \"SELECT book_id FROM Books WHERE title = 'Chatbot'\"}, 'id': 'e54bf5fb-4922-418c-80ae-28af871388c8', 'type': 'tool_call'}], usage_metadata={'input_tokens': 922, 'output_tokens': 31, 'total_tokens': 953, 'input_token_details': {'cache_read': 0}})]}}\n",
            "----\n",
            "{'tools': {'messages': [ToolMessage(content=\"SELECT book_id FROM Books WHERE title = 'Chatbot'\", name='sql_db_query_checker', id='0dbb6f46-b504-4ff4-adc4-df3ba569eea9', tool_call_id='e54bf5fb-4922-418c-80ae-28af871388c8')]}}\n",
            "----\n",
            "{'agent': {'messages': [AIMessage(content='', additional_kwargs={'function_call': {'name': 'sql_db_query', 'arguments': '{\"query\": \"SELECT book_id FROM Books WHERE title = \\'Chatbot\\'\"}'}}, response_metadata={'prompt_feedback': {'block_reason': 0, 'safety_ratings': []}, 'finish_reason': 'STOP', 'model_name': 'gemini-2.5-flash', 'safety_ratings': []}, id='run--f9b8f77f-da2d-4085-9931-aaf1f588192a-0', tool_calls=[{'name': 'sql_db_query', 'args': {'query': \"SELECT book_id FROM Books WHERE title = 'Chatbot'\"}, 'id': '8d9b19cc-88f9-4a8c-be29-3eeb04cb29aa', 'type': 'tool_call'}], usage_metadata={'input_tokens': 984, 'output_tokens': 29, 'total_tokens': 1013, 'input_token_details': {'cache_read': 701}})]}}\n",
            "----\n",
            "{'tools': {'messages': [ToolMessage(content='[(1,)]', name='sql_db_query', id='b6827dba-758c-4111-a5eb-a1fa8922a516', tool_call_id='8d9b19cc-88f9-4a8c-be29-3eeb04cb29aa')]}}\n",
            "----\n",
            "{'agent': {'messages': [AIMessage(content='', additional_kwargs={'function_call': {'name': 'sql_db_schema', 'arguments': '{\"table_names\": \"Orders\"}'}}, response_metadata={'prompt_feedback': {'block_reason': 0, 'safety_ratings': []}, 'finish_reason': 'STOP', 'model_name': 'gemini-2.5-flash', 'safety_ratings': []}, id='run--c8ed629b-2d35-4a2a-ba1e-dfbd475182e8-0', tool_calls=[{'name': 'sql_db_schema', 'args': {'table_names': 'Orders'}, 'id': 'a83a0381-1803-4237-97bf-4b2f8b5e1702', 'type': 'tool_call'}], usage_metadata={'input_tokens': 1033, 'output_tokens': 19, 'total_tokens': 1052, 'input_token_details': {'cache_read': 706}})]}}\n",
            "----\n",
            "{'tools': {'messages': [ToolMessage(content='\\nCREATE TABLE \"Orders\" (\\n\\torder_id INTEGER, \\n\\tcustomer_name TEXT, \\n\\tphone TEXT, \\n\\taddress TEXT, \\n\\tbook_id INTEGER, \\n\\tquantity INTEGER, \\n\\tstatus TEXT, \\n\\tPRIMARY KEY (order_id), \\n\\tFOREIGN KEY(book_id) REFERENCES \"Books\" (book_id)\\n)\\n\\n/*\\n3 rows from Orders table:\\norder_id\\tcustomer_name\\tphone\\taddress\\tbook_id\\tquantity\\tstatus\\n\\n*/', name='sql_db_schema', id='36beb997-2244-4a9f-a75c-6906e70ae207', tool_call_id='a83a0381-1803-4237-97bf-4b2f8b5e1702')]}}\n",
            "----\n",
            "{'agent': {'messages': [AIMessage(content='', additional_kwargs={'function_call': {'name': 'sql_db_query_checker', 'arguments': '{\"query\": \"INSERT INTO Orders (customer_name, phone, address, book_id, quantity, status) VALUES (\\'VinhDV\\', \\'012345678\\', \\'Hanoi\\', 1, 1, \\'Pending\\')\"}'}}, response_metadata={'prompt_feedback': {'block_reason': 0, 'safety_ratings': []}, 'finish_reason': 'STOP', 'model_name': 'gemini-2.5-flash', 'safety_ratings': []}, id='run--274a976d-fa00-4092-b27c-5836ca679032-0', tool_calls=[{'name': 'sql_db_query_checker', 'args': {'query': \"INSERT INTO Orders (customer_name, phone, address, book_id, quantity, status) VALUES ('VinhDV', '012345678', 'Hanoi', 1, 1, 'Pending')\"}, 'id': 'bed29750-d08e-40c7-ab8f-78c350d802dc', 'type': 'tool_call'}], usage_metadata={'input_tokens': 1205, 'output_tokens': 73, 'total_tokens': 1278, 'input_token_details': {'cache_read': 734}})]}}\n",
            "----\n",
            "{'tools': {'messages': [ToolMessage(content=\"```sql\\nINSERT INTO Orders (customer_name, phone, address, book_id, quantity, status) VALUES ('VinhDV', '012345678', 'Hanoi', 1, 1, 'Pending')\\n```\", name='sql_db_query_checker', id='b7de4276-e6fd-490e-bc6e-467b6ee048be', tool_call_id='bed29750-d08e-40c7-ab8f-78c350d802dc')]}}\n",
            "----\n",
            "{'agent': {'messages': [AIMessage(content='', additional_kwargs={'function_call': {'name': 'sql_db_query', 'arguments': '{\"query\": \"INSERT INTO Orders (customer_name, phone, address, book_id, quantity, status) VALUES (\\'VinhDV\\', \\'012345678\\', \\'Hanoi\\', 1, 1, \\'Pending\\')\"}'}}, response_metadata={'prompt_feedback': {'block_reason': 0, 'safety_ratings': []}, 'finish_reason': 'STOP', 'model_name': 'gemini-2.5-flash', 'safety_ratings': []}, id='run--3ad36e52-815e-4fef-a8fa-50c4ddceda9e-0', tool_calls=[{'name': 'sql_db_query', 'args': {'query': \"INSERT INTO Orders (customer_name, phone, address, book_id, quantity, status) VALUES ('VinhDV', '012345678', 'Hanoi', 1, 1, 'Pending')\"}, 'id': 'edca965b-0b60-4250-bf6e-732d423d83ac', 'type': 'tool_call'}], usage_metadata={'input_tokens': 1358, 'output_tokens': 164, 'total_tokens': 1522, 'input_token_details': {'cache_read': 753}, 'output_token_details': {'reasoning': 93}})]}}\n",
            "----\n",
            "{'tools': {'messages': [ToolMessage(content='', name='sql_db_query', id='38212668-2cc0-48ba-99a4-85392da643a6', tool_call_id='edca965b-0b60-4250-bf6e-732d423d83ac')]}}\n",
            "----\n",
            "{'agent': {'messages': [AIMessage(content='Your order for 1 copy of Chatbot has been placed.', additional_kwargs={}, response_metadata={'prompt_feedback': {'block_reason': 0, 'safety_ratings': []}, 'finish_reason': 'STOP', 'model_name': 'gemini-2.5-flash', 'safety_ratings': []}, id='run--bb80e7ab-caaf-42f9-87c9-9c5df095db02-0', usage_metadata={'input_tokens': 1445, 'output_tokens': 13, 'total_tokens': 1458, 'input_token_details': {'cache_read': 760}})]}}\n",
            "----\n"
          ]
        }
      ]
    },
    {
      "cell_type": "code",
      "source": [
        "print(\"DB tables:\", db.get_table_names())"
      ],
      "metadata": {
        "colab": {
          "base_uri": "https://localhost:8080/"
        },
        "id": "jdk1_RRjU2oW",
        "outputId": "c3dc8eae-7422-4b22-c559-0a9df06ab419"
      },
      "execution_count": 24,
      "outputs": [
        {
          "output_type": "stream",
          "name": "stdout",
          "text": [
            "DB tables: ['Books', 'Orders']\n"
          ]
        }
      ]
    },
    {
      "cell_type": "code",
      "source": [
        "print(db.table_info)"
      ],
      "metadata": {
        "colab": {
          "base_uri": "https://localhost:8080/"
        },
        "collapsed": true,
        "id": "3sWZkPxeU6-e",
        "outputId": "fb68d750-33ab-45ef-9875-5779a10d13df"
      },
      "execution_count": 13,
      "outputs": [
        {
          "output_type": "stream",
          "name": "stdout",
          "text": [
            "\n",
            "CREATE TABLE \"Books\" (\n",
            "\tbook_id INTEGER, \n",
            "\ttitle TEXT, \n",
            "\tauthor TEXT, \n",
            "\tprice REAL, \n",
            "\tstock INTEGER, \n",
            "\tcategory TEXT, \n",
            "\tPRIMARY KEY (book_id)\n",
            ")\n",
            "\n",
            "/*\n",
            "3 rows from Books table:\n",
            "book_id\ttitle\tauthor\tprice\tstock\tcategory\n",
            "1\tChatbot\tVinh\t24.04\t1\tTest\n",
            "2\tUser manual\tVinh2\t2003.0\t5\tManual\n",
            "*/\n",
            "\n",
            "\n",
            "CREATE TABLE \"Orders\" (\n",
            "\torder_id INTEGER, \n",
            "\tcustomer_name TEXT, \n",
            "\tphone TEXT, \n",
            "\taddress TEXT, \n",
            "\tbook_id INTEGER, \n",
            "\tquantity INTEGER, \n",
            "\tstatus TEXT, \n",
            "\tPRIMARY KEY (order_id), \n",
            "\tFOREIGN KEY(book_id) REFERENCES \"Books\" (book_id)\n",
            ")\n",
            "\n",
            "/*\n",
            "3 rows from Orders table:\n",
            "order_id\tcustomer_name\tphone\taddress\tbook_id\tquantity\tstatus\n",
            "1\tVinhDV\t012345678\tHanoi\t1\t1\tPending\n",
            "*/\n"
          ]
        }
      ]
    },
    {
      "cell_type": "code",
      "source": [
        "conn = sqlite3.connect(db_path)\n",
        "cursor = conn.cursor()\n",
        "\n",
        "cursor.execute(\"SELECT * FROM Orders\")\n",
        "orders = cursor.fetchall()\n",
        "\n",
        "for order in orders:\n",
        "    print(order)\n",
        "\n",
        "cursor.close()\n",
        "conn.close()"
      ],
      "metadata": {
        "colab": {
          "base_uri": "https://localhost:8080/"
        },
        "id": "IkwZJAt_UZ6G",
        "outputId": "7b249e60-8edb-40e3-9585-efc14559265d"
      },
      "execution_count": 14,
      "outputs": [
        {
          "output_type": "stream",
          "name": "stdout",
          "text": [
            "(1, 'VinhDV', '012345678', 'Hanoi', 1, 1, 'Pending')\n"
          ]
        }
      ]
    }
  ]
}